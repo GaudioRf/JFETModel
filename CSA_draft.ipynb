{
 "cells": [
  {
   "cell_type": "code",
   "execution_count": 1,
   "metadata": {},
   "outputs": [],
   "source": [
    "import json\n",
    "import numpy as np\n",
    "import matplotlib.pyplot as plt\n",
    "import matplotlib.cm as cm\n",
    "import pandas as pd\n",
    "import pickle\n",
    "\n",
    "from scipy.optimize import fsolve\n",
    "from scipy.optimize import differential_evolution\n",
    "from scipy.interpolate import UnivariateSpline\n",
    "from scipy.optimize import curve_fit\n",
    "\n",
    "from PySpice.Spice.Netlist import Circuit\n",
    "import PySpice.Logging.Logging as Logging\n",
    "from PySpice.Unit import *\n",
    "\n",
    "from CC4_PreAmplifier import *\n",
    "from signals import *\n",
    "\n",
    "from tqdm.notebook import tqdm\n",
    "\n",
    "import matplotlib as mpl\n",
    "from mpl_toolkits.axes_grid1.inset_locator import inset_axes\n",
    "from mpl_toolkits.axes_grid1.inset_locator import mark_inset\n",
    "import seaborn as sns\n",
    "\n",
    "\n",
    "sns.set_theme(style = 'white')\n",
    "mpl.rc('xtick.minor', visible = True)\n",
    "mpl.rc('ytick.minor', visible = True)\n",
    "mpl.rc('xtick', direction='in', top=True, bottom = True)\n",
    "mpl.rc('ytick', direction='in', right=True, left = True)"
   ]
  },
  {
   "cell_type": "code",
   "execution_count": 2,
   "metadata": {},
   "outputs": [
    {
     "name": "stdout",
     "output_type": "stream",
     "text": [
      "ADC to V: 6.5e-06\n"
     ]
    }
   ],
   "source": [
    "T_operating = 89\n",
    "\n",
    "# cascode params\n",
    "V_DD = 11.7     # Supply voltage [V]\n",
    "R_L = 1.6e3     # Load resistor  [Ohm]\n",
    "V_G2 = 4.5      # Bias voltage for Q2's gate [V]\n",
    "\n",
    "# feedback params\n",
    "R_f = 1e9\n",
    "C_f = 400e-15\n",
    "\n",
    "ADC_to_V = 0.13/(20e3)\n",
    "V_to_ADC = 1/ADC_to_V\n",
    "print('ADC to V:',round(ADC_to_V,7))"
   ]
  },
  {
   "cell_type": "markdown",
   "metadata": {},
   "source": [
    "# Cascode Stage"
   ]
  },
  {
   "cell_type": "code",
   "execution_count": 3,
   "metadata": {},
   "outputs": [
    {
     "name": "stdout",
     "output_type": "stream",
     "text": [
      "--------------------------------------------\n",
      "* MX11 I_DSS @ 293.15 K: \n",
      "nominal: 0.03 \n",
      "computed: 0.02547049519666621 \n",
      "difference: 0.0045295048033337885\n",
      "\n",
      "--------------------------------------------\n",
      "* BF862 I_DSS @ 298.15 K: \n",
      "nominal: 0.017 \n",
      "computed: 0.017139882200205358 \n",
      "difference: 0.00013988220020535666\n",
      "\n",
      "--------------------------------------------\n"
     ]
    }
   ],
   "source": [
    "MX11_data_sheet = {\n",
    "    'I_DSS':30e-3, \n",
    "    'VTO':-4.2, \n",
    "    'g_m':5.6e-3, \n",
    "    'nominal_T':293.15\n",
    "    }\n",
    "\n",
    "BF862_data_sheet = {\n",
    "    'I_DSS':17e-3, \n",
    "    'VTO':-0.8, \n",
    "    'g_m':45e-3, \n",
    "    'nominal_T':298.15\n",
    "    }\n",
    "\n",
    "\n",
    "\n",
    "MX11_params = infer_jfet_params(I_DSS=MX11_data_sheet['I_DSS'],\n",
    "                                VTO=MX11_data_sheet['VTO'],\n",
    "                                g_m=MX11_data_sheet['g_m'],\n",
    "                                T=MX11_data_sheet['nominal_T'],\n",
    "                                method='differential_evolution'\n",
    "                                )\n",
    "\n",
    "BF862_params = infer_jfet_params(I_DSS=BF862_data_sheet['I_DSS'],\n",
    "                                VTO=BF862_data_sheet['VTO'],\n",
    "                                g_m=BF862_data_sheet['g_m'],\n",
    "                                T=BF862_data_sheet['nominal_T'],\n",
    "                                method='differential_evolution'\n",
    "                                )\n",
    "\n",
    "jfet1 = JFET(W_L_ratio=MX11_params['W_L_ratio'],\n",
    "                a=MX11_params['a'],\n",
    "                N_d=MX11_params['N_d'])\n",
    "\n",
    "jfet2 = JFET(W_L_ratio=BF862_params['W_L_ratio'],\n",
    "                a=BF862_params['a'],\n",
    "                N_d=BF862_params['N_d'])\n",
    "\n",
    "\n",
    "mx11_ds_T = MX11_data_sheet['nominal_T']\n",
    "bf862_ds_T = BF862_data_sheet['nominal_T']\n",
    "\n",
    "mx11_ds_idss = MX11_data_sheet['I_DSS']\n",
    "bf862_ds_idss = BF862_data_sheet['I_DSS']\n",
    "\n",
    "mx11_ds_gm = MX11_data_sheet['g_m']\n",
    "bf862_ds_gm = BF862_data_sheet['g_m']\n",
    "\n",
    "I_dds_mx11 = jfet1.I_d(V_ds=10., V_gs=0., T=MX11_data_sheet['nominal_T'])\n",
    "I_dds_bf862 = jfet2.I_d(V_ds=10., V_gs=0., T=BF862_data_sheet['nominal_T'])\n",
    "\n",
    "g_m_mx11_computed = np.abs(jfet1.I_d(10.,0.,mx11_ds_T)/jfet1.pinch_off_voltage())\n",
    "g_m_bf862_computed = np.abs(2*jfet2.I_d(10.,0.,bf862_ds_T)/jfet2.pinch_off_voltage())\n",
    "\n",
    "print('--------------------------------------------')\n",
    "print(f'* MX11 I_DSS @ {mx11_ds_T} K: \\nnominal: {mx11_ds_idss} \\ncomputed: {I_dds_mx11} \\ndifference: {np.abs(mx11_ds_idss-I_dds_mx11)}\\n')\n",
    "#print(f'* MX11 trasconductance @ {mx11_ds_T} K:  \\nnominal: {mx11_ds_gm} \\ncomputed: {g_m_mx11_computed} \\ndifference: {np.abs(mx11_ds_gm-g_m_mx11_computed)}')\n",
    "print('--------------------------------------------')\n",
    "print(f'* BF862 I_DSS @ {bf862_ds_T} K: \\nnominal: {bf862_ds_idss} \\ncomputed: {I_dds_bf862} \\ndifference: {np.abs(bf862_ds_idss-I_dds_bf862)}\\n')\n",
    "#print(f'* BF862 trasconductance @ {bf862_ds_T} K:  \\nnominal: {bf862_ds_gm} \\ncomputed: {g_m_bf862_computed} \\ndifference: {np.abs(bf862_ds_gm-g_m_bf862_computed)}')\n",
    "print('--------------------------------------------')"
   ]
  },
  {
   "cell_type": "markdown",
   "metadata": {},
   "source": [
    "## Explore ic in order to compute the Cascode Transfer function"
   ]
  },
  {
   "cell_type": "code",
   "execution_count": 4,
   "metadata": {},
   "outputs": [
    {
     "data": {
      "application/vnd.jupyter.widget-view+json": {
       "model_id": "dc4d6f003e6241019874167e759d72a2",
       "version_major": 2,
       "version_minor": 0
      },
      "text/plain": [
       "Sweeping V_in:   0%|          | 0/1000 [00:00<?, ?it/s]"
      ]
     },
     "metadata": {},
     "output_type": "display_data"
    }
   ],
   "source": [
    "def cascode_operating_point_exploration(V_in, V_DD, R_L, V_G2, T, jfet1, jfet2):\n",
    "    \n",
    "    # Define the objective function as the sum of squared residuals:\n",
    "    def objective(vars):\n",
    "        V_x, V_out = vars\n",
    "        # Q1: common-source, gate = V_in, source = 0, drain = V_x\n",
    "        I1 = jfet1.I_d(V_ds=V_x, V_gs=V_in, T=T)\n",
    "        # Q2: common-gate, gate = V_G2, source = V_x, drain = V_out => V_ds = V_out - V_x\n",
    "        I2 = jfet2.I_d(V_ds=V_out - V_x, V_gs=V_G2 - V_x, T=T)\n",
    "        eq1 = I1 - I2\n",
    "        eq2 = V_out - (V_DD - R_L * I2)\n",
    "        return eq1**2 + eq2**2\n",
    "    \n",
    "\n",
    "    bounds = [(0, V_G2), (0, V_DD)]\n",
    "    \n",
    "    # Use differential evolution to find the minimum of the objective function:\n",
    "    result = differential_evolution(objective, bounds)\n",
    "    V_x_sol, V_out_sol = result.x\n",
    "    \n",
    "    # Compute the output current (assuming both transistors share the same current)\n",
    "    I_sol = jfet1.I_d(V_ds=V_x_sol, V_gs=V_in, T=T)\n",
    "    return V_x_sol, V_out_sol, I_sol\n",
    "\n",
    "#-----------------------------------------------------------------------------------------------------------\n",
    "\n",
    "V_in_range_exploration = np.linspace(-5, 5, 1000) \n",
    "V_out_range_exploration= np.zeros_like(V_in_range_exploration)\n",
    "\n",
    "\n",
    "# Compute the static transfer curve: for each V_in, determine V_out.\n",
    "for i, V_in in enumerate(tqdm(V_in_range_exploration, desc=\"Sweeping V_in\")):\n",
    "    V_x, V_out, i_out = cascode_operating_point_exploration(V_in, V_DD, R_L, V_G2, T_operating, jfet1, jfet2)\n",
    "    V_out_range_exploration[i] = V_out"
   ]
  },
  {
   "cell_type": "code",
   "execution_count": 5,
   "metadata": {},
   "outputs": [
    {
     "data": {
      "image/png": "[encoded data removed]",
      "text/plain": [
       "<Figure size 800x500 with 1 Axes>"
      ]
     },
     "metadata": {},
     "output_type": "display_data"
    }
   ],
   "source": [
    "plt.figure(figsize=(8, 5))\n",
    "plt.title('Cascode Stage DC Sweep @ 89 K')\n",
    "plt.scatter(V_in_range_exploration, V_out_range_exploration, marker='.')\n",
    "plt.xlabel('$V_{in}$ [V]')\n",
    "plt.ylabel('$V_{out}$ [V]')\n",
    "plt.grid(alpha=0.5)\n",
    "plt.show()"
   ]
  },
  {
   "cell_type": "markdown",
   "metadata": {},
   "source": [
    "## Fix ic and compute the Transfer Function"
   ]
  },
  {
   "cell_type": "code",
   "execution_count": 6,
   "metadata": {},
   "outputs": [
    {
     "data": {
      "application/vnd.jupyter.widget-view+json": {
       "model_id": "d164627015034ebd9221b506aaa52b92",
       "version_major": 2,
       "version_minor": 0
      },
      "text/plain": [
       "Sweeping V_in:   0%|          | 0/100000 [00:00<?, ?it/s]"
      ]
     },
     "metadata": {},
     "output_type": "display_data"
    },
    {
     "name": "stderr",
     "output_type": "stream",
     "text": [
      "/Users/raffaelegaudio/opt/anaconda3/lib/python3.9/site-packages/scipy/optimize/_minpack_py.py:175: RuntimeWarning: The iteration is not making good progress, as measured by the \n",
      "  improvement from the last ten iterations.\n",
      "  warnings.warn(msg, RuntimeWarning)\n"
     ]
    },
    {
     "ename": "KeyboardInterrupt",
     "evalue": "",
     "output_type": "error",
     "traceback": [
      "\u001b[0;31m---------------------------------------------------------------------------\u001b[0m",
      "\u001b[0;31mKeyboardInterrupt\u001b[0m                         Traceback (most recent call last)",
      "Input \u001b[0;32mIn [6]\u001b[0m, in \u001b[0;36m<cell line: 35>\u001b[0;34m()\u001b[0m\n\u001b[1;32m     34\u001b[0m \u001b[38;5;66;03m# Compute the static transfer curve\u001b[39;00m\n\u001b[1;32m     35\u001b[0m \u001b[38;5;28;01mfor\u001b[39;00m i, V_in \u001b[38;5;129;01min\u001b[39;00m \u001b[38;5;28menumerate\u001b[39m(tqdm(V_in_range, desc\u001b[38;5;241m=\u001b[39m\u001b[38;5;124m\"\u001b[39m\u001b[38;5;124mSweeping V_in\u001b[39m\u001b[38;5;124m\"\u001b[39m)):\n\u001b[0;32m---> 36\u001b[0m     V_x, V_out, i_out \u001b[38;5;241m=\u001b[39m \u001b[43mcascode_operating_point\u001b[49m\u001b[43m(\u001b[49m\u001b[43mV_in\u001b[49m\u001b[43m,\u001b[49m\u001b[43m \u001b[49m\u001b[43mV_DD\u001b[49m\u001b[43m,\u001b[49m\u001b[43m \u001b[49m\u001b[43mR_L\u001b[49m\u001b[43m,\u001b[49m\u001b[43m \u001b[49m\u001b[43mV_G2\u001b[49m\u001b[43m,\u001b[49m\u001b[43m \u001b[49m\u001b[43mT_operating\u001b[49m\u001b[43m,\u001b[49m\u001b[43m \u001b[49m\u001b[43mjfet1\u001b[49m\u001b[43m,\u001b[49m\u001b[43m \u001b[49m\u001b[43mjfet2\u001b[49m\u001b[43m)\u001b[49m\n\u001b[1;32m     37\u001b[0m     V_out_sweep[i] \u001b[38;5;241m=\u001b[39m V_out\n\u001b[1;32m     38\u001b[0m     V_x_range[i] \u001b[38;5;241m=\u001b[39m V_x\n",
      "Input \u001b[0;32mIn [6]\u001b[0m, in \u001b[0;36mcascode_operating_point\u001b[0;34m(V_in, V_DD, R_L, V_G2, T, jfet1, jfet2)\u001b[0m\n\u001b[1;32m     17\u001b[0m     eq2 \u001b[38;5;241m=\u001b[39m V_out \u001b[38;5;241m-\u001b[39m (V_DD \u001b[38;5;241m-\u001b[39m R_L \u001b[38;5;241m*\u001b[39m I2)\n\u001b[1;32m     18\u001b[0m     \u001b[38;5;28;01mreturn\u001b[39;00m [eq1, eq2]\n\u001b[0;32m---> 20\u001b[0m solution \u001b[38;5;241m=\u001b[39m \u001b[43mfsolve\u001b[49m\u001b[43m(\u001b[49m\u001b[43mequations\u001b[49m\u001b[43m,\u001b[49m\u001b[43m \u001b[49m\u001b[43m[\u001b[49m\u001b[43mV_x0\u001b[49m\u001b[43m,\u001b[49m\u001b[43m \u001b[49m\u001b[43mV_out0\u001b[49m\u001b[43m]\u001b[49m\u001b[43m)\u001b[49m\n\u001b[1;32m     21\u001b[0m V_x_sol, V_out_sol \u001b[38;5;241m=\u001b[39m solution\n\u001b[1;32m     22\u001b[0m I_sol \u001b[38;5;241m=\u001b[39m jfet1\u001b[38;5;241m.\u001b[39mI_d(V_ds\u001b[38;5;241m=\u001b[39mV_x_sol, V_gs\u001b[38;5;241m=\u001b[39mV_in, T\u001b[38;5;241m=\u001b[39mT)\n",
      "File \u001b[0;32m~/opt/anaconda3/lib/python3.9/site-packages/scipy/optimize/_minpack_py.py:160\u001b[0m, in \u001b[0;36mfsolve\u001b[0;34m(func, x0, args, fprime, full_output, col_deriv, xtol, maxfev, band, epsfcn, factor, diag)\u001b[0m\n\u001b[1;32m     49\u001b[0m \u001b[38;5;124;03m\"\"\"\u001b[39;00m\n\u001b[1;32m     50\u001b[0m \u001b[38;5;124;03mFind the roots of a function.\u001b[39;00m\n\u001b[1;32m     51\u001b[0m \n\u001b[0;32m   (...)\u001b[0m\n\u001b[1;32m    150\u001b[0m \n\u001b[1;32m    151\u001b[0m \u001b[38;5;124;03m\"\"\"\u001b[39;00m\n\u001b[1;32m    152\u001b[0m options \u001b[38;5;241m=\u001b[39m {\u001b[38;5;124m'\u001b[39m\u001b[38;5;124mcol_deriv\u001b[39m\u001b[38;5;124m'\u001b[39m: col_deriv,\n\u001b[1;32m    153\u001b[0m            \u001b[38;5;124m'\u001b[39m\u001b[38;5;124mxtol\u001b[39m\u001b[38;5;124m'\u001b[39m: xtol,\n\u001b[1;32m    154\u001b[0m            \u001b[38;5;124m'\u001b[39m\u001b[38;5;124mmaxfev\u001b[39m\u001b[38;5;124m'\u001b[39m: maxfev,\n\u001b[0;32m   (...)\u001b[0m\n\u001b[1;32m    157\u001b[0m            \u001b[38;5;124m'\u001b[39m\u001b[38;5;124mfactor\u001b[39m\u001b[38;5;124m'\u001b[39m: factor,\n\u001b[1;32m    158\u001b[0m            \u001b[38;5;124m'\u001b[39m\u001b[38;5;124mdiag\u001b[39m\u001b[38;5;124m'\u001b[39m: diag}\n\u001b[0;32m--> 160\u001b[0m res \u001b[38;5;241m=\u001b[39m \u001b[43m_root_hybr\u001b[49m\u001b[43m(\u001b[49m\u001b[43mfunc\u001b[49m\u001b[43m,\u001b[49m\u001b[43m \u001b[49m\u001b[43mx0\u001b[49m\u001b[43m,\u001b[49m\u001b[43m \u001b[49m\u001b[43margs\u001b[49m\u001b[43m,\u001b[49m\u001b[43m \u001b[49m\u001b[43mjac\u001b[49m\u001b[38;5;241;43m=\u001b[39;49m\u001b[43mfprime\u001b[49m\u001b[43m,\u001b[49m\u001b[43m \u001b[49m\u001b[38;5;241;43m*\u001b[39;49m\u001b[38;5;241;43m*\u001b[39;49m\u001b[43moptions\u001b[49m\u001b[43m)\u001b[49m\n\u001b[1;32m    161\u001b[0m \u001b[38;5;28;01mif\u001b[39;00m full_output:\n\u001b[1;32m    162\u001b[0m     x \u001b[38;5;241m=\u001b[39m res[\u001b[38;5;124m'\u001b[39m\u001b[38;5;124mx\u001b[39m\u001b[38;5;124m'\u001b[39m]\n",
      "File \u001b[0;32m~/opt/anaconda3/lib/python3.9/site-packages/scipy/optimize/_minpack_py.py:237\u001b[0m, in \u001b[0;36m_root_hybr\u001b[0;34m(func, x0, args, jac, col_deriv, xtol, maxfev, band, eps, factor, diag, **unknown_options)\u001b[0m\n\u001b[1;32m    235\u001b[0m     \u001b[38;5;28;01mif\u001b[39;00m maxfev \u001b[38;5;241m==\u001b[39m \u001b[38;5;241m0\u001b[39m:\n\u001b[1;32m    236\u001b[0m         maxfev \u001b[38;5;241m=\u001b[39m \u001b[38;5;241m200\u001b[39m \u001b[38;5;241m*\u001b[39m (n \u001b[38;5;241m+\u001b[39m \u001b[38;5;241m1\u001b[39m)\n\u001b[0;32m--> 237\u001b[0m     retval \u001b[38;5;241m=\u001b[39m \u001b[43m_minpack\u001b[49m\u001b[38;5;241;43m.\u001b[39;49m\u001b[43m_hybrd\u001b[49m\u001b[43m(\u001b[49m\u001b[43mfunc\u001b[49m\u001b[43m,\u001b[49m\u001b[43m \u001b[49m\u001b[43mx0\u001b[49m\u001b[43m,\u001b[49m\u001b[43m \u001b[49m\u001b[43margs\u001b[49m\u001b[43m,\u001b[49m\u001b[43m \u001b[49m\u001b[38;5;241;43m1\u001b[39;49m\u001b[43m,\u001b[49m\u001b[43m \u001b[49m\u001b[43mxtol\u001b[49m\u001b[43m,\u001b[49m\u001b[43m \u001b[49m\u001b[43mmaxfev\u001b[49m\u001b[43m,\u001b[49m\n\u001b[1;32m    238\u001b[0m \u001b[43m                             \u001b[49m\u001b[43mml\u001b[49m\u001b[43m,\u001b[49m\u001b[43m \u001b[49m\u001b[43mmu\u001b[49m\u001b[43m,\u001b[49m\u001b[43m \u001b[49m\u001b[43mepsfcn\u001b[49m\u001b[43m,\u001b[49m\u001b[43m \u001b[49m\u001b[43mfactor\u001b[49m\u001b[43m,\u001b[49m\u001b[43m \u001b[49m\u001b[43mdiag\u001b[49m\u001b[43m)\u001b[49m\n\u001b[1;32m    239\u001b[0m \u001b[38;5;28;01melse\u001b[39;00m:\n\u001b[1;32m    240\u001b[0m     _check_func(\u001b[38;5;124m'\u001b[39m\u001b[38;5;124mfsolve\u001b[39m\u001b[38;5;124m'\u001b[39m, \u001b[38;5;124m'\u001b[39m\u001b[38;5;124mfprime\u001b[39m\u001b[38;5;124m'\u001b[39m, Dfun, x0, args, n, (n, n))\n",
      "Input \u001b[0;32mIn [6]\u001b[0m, in \u001b[0;36mcascode_operating_point.<locals>.equations\u001b[0;34m(vars)\u001b[0m\n\u001b[1;32m     13\u001b[0m I1 \u001b[38;5;241m=\u001b[39m jfet1\u001b[38;5;241m.\u001b[39mI_d(V_ds\u001b[38;5;241m=\u001b[39mV_x, V_gs\u001b[38;5;241m=\u001b[39mV_in, T\u001b[38;5;241m=\u001b[39mT)\n\u001b[1;32m     14\u001b[0m \u001b[38;5;66;03m# Q2: common-gate, gate = V_G2, source = V_x, drain = V_out => V_ds = V_out - V_x\u001b[39;00m\n\u001b[0;32m---> 15\u001b[0m I2 \u001b[38;5;241m=\u001b[39m \u001b[43mjfet2\u001b[49m\u001b[38;5;241;43m.\u001b[39;49m\u001b[43mI_d\u001b[49m\u001b[43m(\u001b[49m\u001b[43mV_ds\u001b[49m\u001b[38;5;241;43m=\u001b[39;49m\u001b[43mV_out\u001b[49m\u001b[43m \u001b[49m\u001b[38;5;241;43m-\u001b[39;49m\u001b[43m \u001b[49m\u001b[43mV_x\u001b[49m\u001b[43m,\u001b[49m\u001b[43m \u001b[49m\u001b[43mV_gs\u001b[49m\u001b[38;5;241;43m=\u001b[39;49m\u001b[43mV_G2\u001b[49m\u001b[43m \u001b[49m\u001b[38;5;241;43m-\u001b[39;49m\u001b[43m \u001b[49m\u001b[43mV_x\u001b[49m\u001b[43m,\u001b[49m\u001b[43m \u001b[49m\u001b[43mT\u001b[49m\u001b[38;5;241;43m=\u001b[39;49m\u001b[43mT\u001b[49m\u001b[43m)\u001b[49m\n\u001b[1;32m     16\u001b[0m eq1 \u001b[38;5;241m=\u001b[39m I1 \u001b[38;5;241m-\u001b[39m I2\n\u001b[1;32m     17\u001b[0m eq2 \u001b[38;5;241m=\u001b[39m V_out \u001b[38;5;241m-\u001b[39m (V_DD \u001b[38;5;241m-\u001b[39m R_L \u001b[38;5;241m*\u001b[39m I2)\n",
      "File \u001b[0;32m~/JFET_model/CC4_PreAmplifier.py:213\u001b[0m, in \u001b[0;36mJFET.I_d\u001b[0;34m(self, V_ds, V_gs, T, lambda_mod)\u001b[0m\n\u001b[1;32m    202\u001b[0m I_d[linear_region] \u001b[38;5;241m=\u001b[39m (\n\u001b[1;32m    203\u001b[0m     G \u001b[38;5;241m*\u001b[39m (\n\u001b[1;32m    204\u001b[0m         V_ds[linear_region]\n\u001b[0;32m   (...)\u001b[0m\n\u001b[1;32m    207\u001b[0m         )\n\u001b[1;32m    208\u001b[0m     )\n\u001b[1;32m    209\u001b[0m \u001b[38;5;66;03m# Saturation region\u001b[39;00m\n\u001b[1;32m    210\u001b[0m I_d[saturation_region] \u001b[38;5;241m=\u001b[39m (\n\u001b[1;32m    211\u001b[0m     G \u001b[38;5;241m*\u001b[39m (\n\u001b[1;32m    212\u001b[0m         V_sat[saturation_region]\n\u001b[0;32m--> 213\u001b[0m         \u001b[38;5;241m-\u001b[39m (\u001b[38;5;241m2\u001b[39m \u001b[38;5;241m/\u001b[39m (\u001b[38;5;241m3\u001b[39m \u001b[38;5;241m*\u001b[39m np\u001b[38;5;241m.\u001b[39msqrt(V_p))) \u001b[38;5;241m*\u001b[39m \u001b[38;5;28;43mself\u001b[39;49m\u001b[38;5;241;43m.\u001b[39;49m\u001b[43msafe_power\u001b[49m\u001b[43m(\u001b[49m\u001b[43mV_bi\u001b[49m\u001b[43m \u001b[49m\u001b[38;5;241;43m+\u001b[39;49m\u001b[43m \u001b[49m\u001b[43mV_sat\u001b[49m\u001b[43m[\u001b[49m\u001b[43msaturation_region\u001b[49m\u001b[43m]\u001b[49m\u001b[43m \u001b[49m\u001b[38;5;241;43m-\u001b[39;49m\u001b[43m \u001b[49m\u001b[43mV_gs\u001b[49m\u001b[43m[\u001b[49m\u001b[43msaturation_region\u001b[49m\u001b[43m]\u001b[49m\u001b[43m,\u001b[49m\u001b[43m \u001b[49m\u001b[38;5;241;43m1.5\u001b[39;49m\u001b[43m)\u001b[49m\n\u001b[1;32m    214\u001b[0m         \u001b[38;5;241m+\u001b[39m (\u001b[38;5;241m2\u001b[39m \u001b[38;5;241m/\u001b[39m (\u001b[38;5;241m3\u001b[39m \u001b[38;5;241m*\u001b[39m np\u001b[38;5;241m.\u001b[39msqrt(V_p))) \u001b[38;5;241m*\u001b[39m \u001b[38;5;28mself\u001b[39m\u001b[38;5;241m.\u001b[39msafe_power(V_bi \u001b[38;5;241m-\u001b[39m V_gs[saturation_region], \u001b[38;5;241m1.5\u001b[39m)\n\u001b[1;32m    215\u001b[0m         )\n\u001b[1;32m    216\u001b[0m     ) \u001b[38;5;241m*\u001b[39m (\u001b[38;5;241m1\u001b[39m \u001b[38;5;241m+\u001b[39m lambda_mod \u001b[38;5;241m*\u001b[39m (V_ds[saturation_region] \u001b[38;5;241m-\u001b[39m V_sat[saturation_region]))\n\u001b[1;32m    218\u001b[0m \u001b[38;5;28;01mreturn\u001b[39;00m I_d\n",
      "File \u001b[0;32m~/JFET_model/CC4_PreAmplifier.py:92\u001b[0m, in \u001b[0;36mJFET.safe_power\u001b[0;34m(self, x, p, tol)\u001b[0m\n\u001b[1;32m     89\u001b[0m         \u001b[38;5;28;01mreturn\u001b[39;00m abs_result\n\u001b[1;32m     90\u001b[0m \u001b[38;5;28;01melse\u001b[39;00m:\n\u001b[1;32m     91\u001b[0m     \u001b[38;5;66;03m# Fractional exponent: clamp negative values to 0\u001b[39;00m\n\u001b[0;32m---> 92\u001b[0m     x_clamped \u001b[38;5;241m=\u001b[39m \u001b[43mnp\u001b[49m\u001b[38;5;241;43m.\u001b[39;49m\u001b[43mmaximum\u001b[49m\u001b[43m(\u001b[49m\u001b[43mx\u001b[49m\u001b[43m,\u001b[49m\u001b[43m \u001b[49m\u001b[38;5;241;43m0\u001b[39;49m\u001b[43m)\u001b[49m\n\u001b[1;32m     93\u001b[0m     \u001b[38;5;28;01mreturn\u001b[39;00m x_clamped \u001b[38;5;241m*\u001b[39m\u001b[38;5;241m*\u001b[39m p\n",
      "\u001b[0;31mKeyboardInterrupt\u001b[0m: "
     ]
    }
   ],
   "source": [
    "def cascode_operating_point(V_in, V_DD, R_L, V_G2, T, jfet1, jfet2):\n",
    "    \"\"\"\n",
    "    For a given input voltage V_in and temperature T, solve for the node voltage V_x \n",
    "    (the connection between Q1 drain and Q2 source) and the output voltage V_out.\n",
    "    \"\"\"\n",
    "    # Initial guesses for V_x and V_out   \n",
    "    V_x0 = 0.0001\n",
    "    V_out0 = 0.0001\n",
    "    \n",
    "    def equations(vars):\n",
    "        V_x, V_out = vars\n",
    "        # Q1: common-source, gate = V_in, source = 0, drain = V_x\n",
    "        I1 = jfet1.I_d(V_ds=V_x, V_gs=V_in, T=T)\n",
    "        # Q2: common-gate, gate = V_G2, source = V_x, drain = V_out => V_ds = V_out - V_x\n",
    "        I2 = jfet2.I_d(V_ds=V_out - V_x, V_gs=V_G2 - V_x, T=T)\n",
    "        eq1 = I1 - I2\n",
    "        eq2 = V_out - (V_DD - R_L * I2)\n",
    "        return [eq1, eq2]\n",
    "    \n",
    "    solution = fsolve(equations, [V_x0, V_out0])\n",
    "    V_x_sol, V_out_sol = solution\n",
    "    I_sol = jfet1.I_d(V_ds=V_x_sol, V_gs=V_in, T=T)\n",
    "    return V_x_sol, V_out_sol, I_sol\n",
    "\n",
    "#--------------------------------------------------------------------------------------------------------------------------\n",
    "\n",
    "\n",
    "V_in_range = np.linspace(-5, 5, 100000) # steps of 0.1 mV\n",
    "V_out_sweep = np.zeros_like(V_in_range)\n",
    "V_x_range = np.zeros_like(V_in_range)\n",
    "I_out = np.zeros_like(V_in_range) \n",
    "\n",
    "\n",
    "# Compute the static transfer curve\n",
    "for i, V_in in enumerate(tqdm(V_in_range, desc=\"Sweeping V_in\")):\n",
    "    V_x, V_out, i_out = cascode_operating_point(V_in, V_DD, R_L, V_G2, T_operating, jfet1, jfet2)\n",
    "    V_out_sweep[i] = V_out\n",
    "    V_x_range[i] = V_x\n",
    "    I_out[i] = i_out"
   ]
  },
  {
   "cell_type": "code",
   "execution_count": null,
   "metadata": {},
   "outputs": [],
   "source": [
    "cascode_transfer_function = UnivariateSpline(V_in_range,V_out_sweep ,s=0)\n",
    "small_signal_cascode_gain = cascode_transfer_function.derivative()\n",
    "\n",
    "V_out_cascode = cascode_transfer_function(V_in_range)\n",
    "cascode_gain = small_signal_cascode_gain(V_in_range)\n",
    "\n",
    "\n",
    "df = pd.DataFrame({'V_bias': V_in_range, 'gain': cascode_gain})\n",
    "print('\\nMax gain:\\n',df.loc[df['gain']==df['gain'].min(),:])\n",
    "\n",
    "\n",
    "plt.rcParams.update({\n",
    "    'font.size': 14,          # Default text size\n",
    "    'axes.titlesize': 16,     # Title size\n",
    "    'axes.labelsize': 14,     # Axis label size\n",
    "    'xtick.labelsize': 12,    # X-tick label size\n",
    "    'ytick.labelsize': 12,    # Y-tick label size\n",
    "    'legend.fontsize': 13     # Legend size\n",
    "})\n",
    "\n",
    "\n",
    "# Plot the transfer function:\n",
    "plt.figure(figsize=(8, 5))\n",
    "plt.title('Cascode Stage IO @ 89 K', fontsize=16)\n",
    "plt.plot(V_in_range, V_out_cascode, color='firebrick', ls='dashed', label ='Interpolation')\n",
    "plt.scatter(V_in_range,V_out_sweep, marker='.', alpha=0.5, label='DC Sweep Data')\n",
    "plt.xlabel('$V_{in}$ [V]')\n",
    "plt.ylabel('$V_{out}$ [V]')\n",
    "plt.legend(frameon=False)\n",
    "plt.show()"
   ]
  },
  {
   "cell_type": "markdown",
   "metadata": {},
   "source": [
    "# Op Amps Stage"
   ]
  },
  {
   "cell_type": "code",
   "execution_count": null,
   "metadata": {},
   "outputs": [],
   "source": [
    "# ----------------------------------------\n",
    "# Create a netlist for the op-amps stages \n",
    "# ----------------------------------------\n",
    "circuit = Circuit('OpAmp_Transfer_Function')\n",
    "circuit.include('LMH6654.LIB')  \n",
    "\n",
    "# --- Power supplies and bias for the first op-amp stage (Integrator) ---\n",
    "vcc  = 9.1 \n",
    "vee  = -3.2 \n",
    "vb1_p = 4.5 \n",
    "\n",
    "circuit.V('vcc', 'vcc', circuit.gnd, vcc)\n",
    "circuit.V('vee', 'vee', circuit.gnd, vee)\n",
    "circuit.V('+vb1', '+vb1', circuit.gnd, vb1_p)\n",
    "\n",
    "circuit.R('r5', '+vb1', 'node_r5c1', 4.3e3)\n",
    "circuit.C('c1', 'node_r5c1', circuit.gnd, 4.7e-6)\n",
    "circuit.R('r8', 'vcc', 'vcc_filtered', 22)\n",
    "circuit.C('c3', 'vcc_filtered', circuit.gnd, 2.2e-6)\n",
    "circuit.R('r7', 'vee', 'vee_filtered', 22)\n",
    "circuit.C('c2', 'vee_filtered', circuit.gnd, 2.2e-6)\n",
    "\n",
    "# --- Use a DC voltage source for input that we can sweep ----------------\n",
    "# This source will represent the cascode output driving the op-amp stage.\n",
    "circuit.V('vin', 'sig_in', circuit.gnd, 0)  \n",
    "\n",
    "# Input resistor from signal to op-amp stage:\n",
    "circuit.R('r6', 'sig_in', 'u1_inv_in', 22)\n",
    "\n",
    "# Integrator feedback network for the first stage:\n",
    "circuit.C('c4', 'u1_inv_in', 'u1_out', 10e-12)\n",
    "circuit.R('r10', 'u1_out', circuit.gnd, 47)\n",
    "\n",
    "# --- First op-amp (U1) ---------------------------------------------------\n",
    "circuit.X('u1', 'LMH6654',\n",
    "            'u1_inv_in',      # -IN (pin 2)\n",
    "            'node_r5c1',      # +IN (pin 3)\n",
    "            'vcc_filtered',   # VCC (pin 8)\n",
    "            'vee_filtered',   # VEE (pin 4)\n",
    "            'u1_out')         # OUT (pin 1)\n",
    "\n",
    "# --- Second Stage (Inverter) ---------------------------------------------\n",
    "vcc2 = 4.5 \n",
    "vee2 = -9.1 \n",
    "vb1_n = -0.9 \n",
    "\n",
    "circuit.V('vcc2', 'vcc2', circuit.gnd, vcc2)\n",
    "circuit.V('vee2', 'vee2', circuit.gnd, vee2)\n",
    "circuit.V('-vb1', '-vb1', circuit.gnd, vb1_n)\n",
    "\n",
    "circuit.R('r12', '-vb1', 'node_r12c7', 4.3e3)\n",
    "circuit.C('c7', 'node_r12c7', circuit.gnd, 4.7e-6)\n",
    "circuit.R('r15', 'vcc2', 'vcc2_filtered', 22)\n",
    "circuit.C('c9', 'vcc2_filtered', circuit.gnd, 2.2e-6)\n",
    "circuit.R('r14', 'vee2', 'vee2_filtered', 22)\n",
    "circuit.C('c8', 'vee2_filtered', circuit.gnd, 2.2e-6)\n",
    "\n",
    "# Gain network for the inverter stage:\n",
    "circuit.R('r13', 'u1_out', 'u2_inv_in', 910)\n",
    "circuit.R('r16', 'u2_inv_in', 'out_n', 910)\n",
    "circuit.R('r17', 'out_n', circuit.gnd, 47)\n",
    "\n",
    "# Second op-amp (U2) used as an inverter:\n",
    "circuit.X('u2', 'LMH6654',\n",
    "            'u2_inv_in',      # -IN (pin 2)\n",
    "            'node_r12c7',     # +IN (pin 3)\n",
    "            'vcc2_filtered',  # VCC (pin 8)\n",
    "            'vee2_filtered',  # VEE (pin 4)\n",
    "            'out_n')          # OUT (pin 1)\n",
    "\n",
    "# --------------------------------------------------------------------------\n",
    "# DC sweep analysis.\n",
    "simulator = circuit.simulator(simulator='ngspice-subprocess',\n",
    "                            temperature=T_operating-273.15, \n",
    "                            nominal_temperature=25)\n",
    "analysis = simulator.dc(Vvin=slice(-5, 5, 0.0001))  \n",
    "\n",
    "# Extract sweep data:\n",
    "Vin_data = np.array(analysis.sweep)\n",
    "Vout_data = np.array(analysis.out_n.as_ndarray())"
   ]
  },
  {
   "cell_type": "code",
   "execution_count": null,
   "metadata": {},
   "outputs": [],
   "source": [
    "opamps_transfer_function = UnivariateSpline(Vin_data,Vout_data,s=0)\n",
    "small_signal_opamp_gain = opamps_transfer_function.derivative()\n",
    "\n",
    "V_out_opamps = opamps_transfer_function(Vin_data)\n",
    "opamp_gain = small_signal_opamp_gain(Vin_data)\n",
    "\n",
    "plt.rcParams.update({\n",
    "    'font.size': 14,          # Default text size\n",
    "    'axes.titlesize': 16,     # Title size\n",
    "    'axes.labelsize': 14,     # Axis label size\n",
    "    'xtick.labelsize': 12,    # X-tick label size\n",
    "    'ytick.labelsize': 12,    # Y-tick label size\n",
    "    'legend.fontsize': 13     # Legend size\n",
    "})\n",
    "\n",
    "\n",
    "plt.figure(figsize=(8, 5))\n",
    "plt.title('Op-Amps Stage IO @ 89 K', fontsize=16)\n",
    "plt.scatter(Vin_data, Vout_data, marker='.', alpha=0.6, label='DC Sweep Data')\n",
    "plt.plot(Vin_data,V_out_opamps, color='firebrick',ls='--', label='Interpolation')\n",
    "plt.xlabel('$V_{in}$ [V]')\n",
    "plt.ylabel('$V_{out}$ [V]')\n",
    "plt.legend(frameon=False)\n",
    "plt.show()\n"
   ]
  },
  {
   "cell_type": "markdown",
   "metadata": {},
   "source": [
    "# Full CSA Transfer Function"
   ]
  },
  {
   "cell_type": "code",
   "execution_count": null,
   "metadata": {},
   "outputs": [],
   "source": [
    "V_in_total_sweep = np.linspace(-5, 5, 100000) \n",
    "\n",
    "V_cascode = cascode_transfer_function(V_in_total_sweep)\n",
    "V_opamps = opamps_transfer_function(V_cascode)\n",
    "\n",
    "total_transfer_function = UnivariateSpline(V_in_total_sweep,V_opamps, s=0)\n",
    "small_signal_final_gain = total_transfer_function.derivative()\n",
    "\n",
    "final_out = total_transfer_function(V_in_total_sweep)\n",
    "total_gain_1 = small_signal_final_gain(V_in_total_sweep)\n",
    "total_gain_2 =  small_signal_opamp_gain(V_x)*V_cascode*small_signal_cascode_gain(V_in_total_sweep)\n",
    "\n",
    "\n",
    "# Plot the transfer function:\n",
    "plt.figure(figsize=(8,5))\n",
    "plt.plot(V_in_total_sweep, final_out, label='Curve Fit')\n",
    "#plt.plot(V_in_total_sweep,V_opamps,label='DC Sweep Data')\n",
    "plt.xlabel('$V_{in}$ [V]')\n",
    "plt.ylabel('$V_{out}$ [V]')\n",
    "plt.title('Full CSA IO @ 89 K', fontsize=16)\n",
    "#plt.grid(alpha=0.5)\n",
    "#plt.legend()\n",
    "plt.show()"
   ]
  },
  {
   "cell_type": "code",
   "execution_count": null,
   "metadata": {},
   "outputs": [],
   "source": []
  }
 ],
 "metadata": {
  "kernelspec": {
   "display_name": "base",
   "language": "python",
   "name": "python3"
  },
  "language_info": {
   "codemirror_mode": {
    "name": "ipython",
    "version": 3
   },
   "file_extension": ".py",
   "mimetype": "text/x-python",
   "name": "python",
   "nbconvert_exporter": "python",
   "pygments_lexer": "ipython3",
   "version": "3.9.13"
  }
 },
 "nbformat": 4,
 "nbformat_minor": 2
}
